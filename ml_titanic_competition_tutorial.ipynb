{
 "cells": [
  {
   "cell_type": "code",
   "execution_count": 1,
   "id": "8695ac0f-68b2-4cc8-99be-f7c49f82e232",
   "metadata": {},
   "outputs": [],
   "source": [
    "# Based on https://youtu.be/n1uk7FZaSZc\n",
    "# Three basic questions:\n",
    "# 1. What is the contribution of each input feature?\n",
    "# 2. What is the contribution of each neuron in a given layer?\n",
    "# 3. Which feature is activating particular neuron?\n",
    "\n",
    "# Importing libs\n",
    "import pandas as pd\n",
    "import numpy as np\n",
    "import torch\n",
    "import torch.nn as nn\n",
    "\n",
    "from captum.attr import IntegratedGradients\n",
    "from captum.attr import LayerConductance\n",
    "from captum.attr import NeuronConductance\n",
    "\n",
    "import matplotlib\n",
    "import matplotlib.pyplot as plt\n",
    "%matplotlib inline\n",
    "\n",
    "from scipy import stats"
   ]
  },
  {
   "cell_type": "code",
   "execution_count": 2,
   "id": "18bbf198-39ed-4568-bbd7-0244a2da8c17",
   "metadata": {},
   "outputs": [],
   "source": [
    "# Reading data\n",
    "dataset_path = 'datasets/train.csv'\n",
    "titanic_data = pd.read_csv(dataset_path) # Read csv to pandas DataFrame\n",
    "\n",
    "# concat - concatenate pandas objects along a particular axis with optional set logic along the other axes\n",
    "# pandas.concat(objs, axis=0, join='outer', ignore_index=False, keys=None, levels=None, names=None, verify_integrity=False, sort=False, copy=True)\n",
    "# axis{0/’index’, 1/’columns’}, default 0 - the axis to concatenate along.\n",
    "\n",
    "# get_dummies - convert categorical variable into dummy/indicator variables\n",
    "# pandas.get_dummies(data, prefix=None, prefix_sep='_', dummy_na=False, columns=None, sparse=False, drop_first=False, dtype=None)\n",
    "# prefix - string to append DataFrame column names\n",
    "\n",
    "titanic_data = pd.concat([titanic_data,\n",
    "                          pd.get_dummies(titanic_data['Sex']),\n",
    "                          pd.get_dummies(titanic_data['Embarked'],prefix='Embark'),\n",
    "                          pd.get_dummies(titanic_data['Pclass'],prefix='Class')], axis=1)\n",
    "\n",
    "# fillna - fill NA/NaN values using the specified method\n",
    "# DataFrame.fillna(value=None, method=None, axis=None, inplace=False, limit=None, downcast=None)\n",
    "titanic_data['Age'] = titanic_data['Age'].fillna(titanic_data['Age'].mean())\n",
    "titanic_data['Fare'] = titanic_data['Fare'].fillna(titanic_data['Fare'].mean())\n",
    "\n",
    "# drop - drop specified labels from rows or columns\n",
    "# dataFrame.drop(labels=None, axis=0, index=None, columns=None, level=None, inplace=False, errors='raise')\n",
    "# axis{0 or ‘index’, 1 or ‘columns’}, default 0 - whether to drop labels from the index (0 or ‘index’) or columns (1 or ‘columns’).\n",
    "titanic_data = titanic_data.drop(['Name','Ticket','Cabin','Sex','Embarked','Pclass','PassengerId'], axis=1)"
   ]
  },
  {
   "cell_type": "code",
   "execution_count": 3,
   "id": "001635c3-f700-4acf-a32f-bcfef0b84a16",
   "metadata": {},
   "outputs": [
    {
     "data": {
      "text/html": [
       "<div>\n",
       "<style scoped>\n",
       "    .dataframe tbody tr th:only-of-type {\n",
       "        vertical-align: middle;\n",
       "    }\n",
       "\n",
       "    .dataframe tbody tr th {\n",
       "        vertical-align: top;\n",
       "    }\n",
       "\n",
       "    .dataframe thead th {\n",
       "        text-align: right;\n",
       "    }\n",
       "</style>\n",
       "<table border=\"1\" class=\"dataframe\">\n",
       "  <thead>\n",
       "    <tr style=\"text-align: right;\">\n",
       "      <th></th>\n",
       "      <th>Survived</th>\n",
       "      <th>Age</th>\n",
       "      <th>SibSp</th>\n",
       "      <th>Parch</th>\n",
       "      <th>Fare</th>\n",
       "      <th>female</th>\n",
       "      <th>male</th>\n",
       "      <th>Embark_C</th>\n",
       "      <th>Embark_Q</th>\n",
       "      <th>Embark_S</th>\n",
       "      <th>Class_1</th>\n",
       "      <th>Class_2</th>\n",
       "      <th>Class_3</th>\n",
       "    </tr>\n",
       "  </thead>\n",
       "  <tbody>\n",
       "    <tr>\n",
       "      <th>0</th>\n",
       "      <td>0</td>\n",
       "      <td>22.000000</td>\n",
       "      <td>1</td>\n",
       "      <td>0</td>\n",
       "      <td>7.2500</td>\n",
       "      <td>0</td>\n",
       "      <td>1</td>\n",
       "      <td>0</td>\n",
       "      <td>0</td>\n",
       "      <td>1</td>\n",
       "      <td>0</td>\n",
       "      <td>0</td>\n",
       "      <td>1</td>\n",
       "    </tr>\n",
       "    <tr>\n",
       "      <th>1</th>\n",
       "      <td>1</td>\n",
       "      <td>38.000000</td>\n",
       "      <td>1</td>\n",
       "      <td>0</td>\n",
       "      <td>71.2833</td>\n",
       "      <td>1</td>\n",
       "      <td>0</td>\n",
       "      <td>1</td>\n",
       "      <td>0</td>\n",
       "      <td>0</td>\n",
       "      <td>1</td>\n",
       "      <td>0</td>\n",
       "      <td>0</td>\n",
       "    </tr>\n",
       "    <tr>\n",
       "      <th>2</th>\n",
       "      <td>1</td>\n",
       "      <td>26.000000</td>\n",
       "      <td>0</td>\n",
       "      <td>0</td>\n",
       "      <td>7.9250</td>\n",
       "      <td>1</td>\n",
       "      <td>0</td>\n",
       "      <td>0</td>\n",
       "      <td>0</td>\n",
       "      <td>1</td>\n",
       "      <td>0</td>\n",
       "      <td>0</td>\n",
       "      <td>1</td>\n",
       "    </tr>\n",
       "    <tr>\n",
       "      <th>3</th>\n",
       "      <td>1</td>\n",
       "      <td>35.000000</td>\n",
       "      <td>1</td>\n",
       "      <td>0</td>\n",
       "      <td>53.1000</td>\n",
       "      <td>1</td>\n",
       "      <td>0</td>\n",
       "      <td>0</td>\n",
       "      <td>0</td>\n",
       "      <td>1</td>\n",
       "      <td>1</td>\n",
       "      <td>0</td>\n",
       "      <td>0</td>\n",
       "    </tr>\n",
       "    <tr>\n",
       "      <th>4</th>\n",
       "      <td>0</td>\n",
       "      <td>35.000000</td>\n",
       "      <td>0</td>\n",
       "      <td>0</td>\n",
       "      <td>8.0500</td>\n",
       "      <td>0</td>\n",
       "      <td>1</td>\n",
       "      <td>0</td>\n",
       "      <td>0</td>\n",
       "      <td>1</td>\n",
       "      <td>0</td>\n",
       "      <td>0</td>\n",
       "      <td>1</td>\n",
       "    </tr>\n",
       "    <tr>\n",
       "      <th>...</th>\n",
       "      <td>...</td>\n",
       "      <td>...</td>\n",
       "      <td>...</td>\n",
       "      <td>...</td>\n",
       "      <td>...</td>\n",
       "      <td>...</td>\n",
       "      <td>...</td>\n",
       "      <td>...</td>\n",
       "      <td>...</td>\n",
       "      <td>...</td>\n",
       "      <td>...</td>\n",
       "      <td>...</td>\n",
       "      <td>...</td>\n",
       "    </tr>\n",
       "    <tr>\n",
       "      <th>886</th>\n",
       "      <td>0</td>\n",
       "      <td>27.000000</td>\n",
       "      <td>0</td>\n",
       "      <td>0</td>\n",
       "      <td>13.0000</td>\n",
       "      <td>0</td>\n",
       "      <td>1</td>\n",
       "      <td>0</td>\n",
       "      <td>0</td>\n",
       "      <td>1</td>\n",
       "      <td>0</td>\n",
       "      <td>1</td>\n",
       "      <td>0</td>\n",
       "    </tr>\n",
       "    <tr>\n",
       "      <th>887</th>\n",
       "      <td>1</td>\n",
       "      <td>19.000000</td>\n",
       "      <td>0</td>\n",
       "      <td>0</td>\n",
       "      <td>30.0000</td>\n",
       "      <td>1</td>\n",
       "      <td>0</td>\n",
       "      <td>0</td>\n",
       "      <td>0</td>\n",
       "      <td>1</td>\n",
       "      <td>1</td>\n",
       "      <td>0</td>\n",
       "      <td>0</td>\n",
       "    </tr>\n",
       "    <tr>\n",
       "      <th>888</th>\n",
       "      <td>0</td>\n",
       "      <td>29.699118</td>\n",
       "      <td>1</td>\n",
       "      <td>2</td>\n",
       "      <td>23.4500</td>\n",
       "      <td>1</td>\n",
       "      <td>0</td>\n",
       "      <td>0</td>\n",
       "      <td>0</td>\n",
       "      <td>1</td>\n",
       "      <td>0</td>\n",
       "      <td>0</td>\n",
       "      <td>1</td>\n",
       "    </tr>\n",
       "    <tr>\n",
       "      <th>889</th>\n",
       "      <td>1</td>\n",
       "      <td>26.000000</td>\n",
       "      <td>0</td>\n",
       "      <td>0</td>\n",
       "      <td>30.0000</td>\n",
       "      <td>0</td>\n",
       "      <td>1</td>\n",
       "      <td>1</td>\n",
       "      <td>0</td>\n",
       "      <td>0</td>\n",
       "      <td>1</td>\n",
       "      <td>0</td>\n",
       "      <td>0</td>\n",
       "    </tr>\n",
       "    <tr>\n",
       "      <th>890</th>\n",
       "      <td>0</td>\n",
       "      <td>32.000000</td>\n",
       "      <td>0</td>\n",
       "      <td>0</td>\n",
       "      <td>7.7500</td>\n",
       "      <td>0</td>\n",
       "      <td>1</td>\n",
       "      <td>0</td>\n",
       "      <td>1</td>\n",
       "      <td>0</td>\n",
       "      <td>0</td>\n",
       "      <td>0</td>\n",
       "      <td>1</td>\n",
       "    </tr>\n",
       "  </tbody>\n",
       "</table>\n",
       "<p>891 rows × 13 columns</p>\n",
       "</div>"
      ],
      "text/plain": [
       "     Survived        Age  SibSp  Parch     Fare  female  male  Embark_C  \\\n",
       "0           0  22.000000      1      0   7.2500       0     1         0   \n",
       "1           1  38.000000      1      0  71.2833       1     0         1   \n",
       "2           1  26.000000      0      0   7.9250       1     0         0   \n",
       "3           1  35.000000      1      0  53.1000       1     0         0   \n",
       "4           0  35.000000      0      0   8.0500       0     1         0   \n",
       "..        ...        ...    ...    ...      ...     ...   ...       ...   \n",
       "886         0  27.000000      0      0  13.0000       0     1         0   \n",
       "887         1  19.000000      0      0  30.0000       1     0         0   \n",
       "888         0  29.699118      1      2  23.4500       1     0         0   \n",
       "889         1  26.000000      0      0  30.0000       0     1         1   \n",
       "890         0  32.000000      0      0   7.7500       0     1         0   \n",
       "\n",
       "     Embark_Q  Embark_S  Class_1  Class_2  Class_3  \n",
       "0           0         1        0        0        1  \n",
       "1           0         0        1        0        0  \n",
       "2           0         1        0        0        1  \n",
       "3           0         1        1        0        0  \n",
       "4           0         1        0        0        1  \n",
       "..        ...       ...      ...      ...      ...  \n",
       "886         0         1        0        1        0  \n",
       "887         0         1        1        0        0  \n",
       "888         0         1        0        0        1  \n",
       "889         0         0        1        0        0  \n",
       "890         1         0        0        0        1  \n",
       "\n",
       "[891 rows x 13 columns]"
      ]
     },
     "execution_count": 3,
     "metadata": {},
     "output_type": "execute_result"
    }
   ],
   "source": [
    "titanic_data"
   ]
  },
  {
   "cell_type": "markdown",
   "id": "ab2f8349-60c1-4789-91b0-0508eea131e8",
   "metadata": {},
   "source": [
    "### Available Features\n",
    "\n",
    "<ul>\n",
    "<li>Age      - passenger age in years</li>\n",
    "<li>SibSp    - number of siblings/spouses aboard the Titanic</li>\n",
    "<li>Parch    - number of parents/children aboard the Titanic</li>\n",
    "<li>Fare     - passenger fare amount paid in British Pounds</li>\n",
    "<li>female   - binary variable indicating whether passenger is a female</li>\n",
    "<li>male     - binary variable indicating whether passenger is a male</li>\n",
    "<li>Embark_C - binary variable indicating whether passenger embarked at Cherbourg</li>\n",
    "<li>Embark_Q - binary variable indicating whether passenger embarked at Queenstown</li>\n",
    "<li>Embark_S - binary variable indicating whether passenger embarked at Southampton</li>\n",
    "<li>Class_1  - binary variable indicating whether passenger was in first class</li>\n",
    "<li>Class_2  - binary variable indicating whether passenger was in second class</li>\n",
    "<li>Class_3  - binary variable indicating whether passenger was in third class</li>\n",
    "</ul>"
   ]
  },
  {
   "cell_type": "code",
   "execution_count": 4,
   "id": "aacf7392-9aab-4325-a6bf-db03238014b0",
   "metadata": {},
   "outputs": [],
   "source": [
    "# Converting data to numpy array\n",
    "\n",
    "# Set random seed for reproducibility\n",
    "np.random.seed(131254)\n",
    "\n",
    "# Convert features and labels to numpy arrays\n",
    "labels = titanic_data['Survived'].to_numpy()\n",
    "titanic_data = titanic_data.drop(['Survived'], axis=1)\n",
    "feature_names = list(titanic_data.columns)\n",
    "data = titanic_data.to_numpy()\n",
    "\n",
    "# Separate training and test sets\n",
    "train_indices = np.random.choice(len(labels), int(0.7*len(labels)), replace=False)\n",
    "test_indices = list(set(range(len(labels))) - set(train_indices))\n",
    "train_features = data[train_indices]\n",
    "train_labels = labels[train_indices]\n",
    "test_features = data[test_indices]\n",
    "test_labels = labels[test_indices]"
   ]
  },
  {
   "cell_type": "code",
   "execution_count": 5,
   "id": "1010ebcb-4c63-40b1-b58d-9c2dc5cd348d",
   "metadata": {},
   "outputs": [],
   "source": [
    "# Deep learning model\n",
    "\n",
    "# Model architecture:\n",
    "#  Input layer: 12 nodes (12 features)\n",
    "#  Hidden layer: 8 nodes\n",
    "#  Output layer: 2 nodes\n",
    "\n",
    "torch.manual_seed(1) # Set seed for reproducibility\n",
    "\n",
    "class NN(nn.Module):\n",
    "    def __init__(self):\n",
    "        super().__init__()\n",
    "        self.linear1 = nn.Linear(12, 12)\n",
    "        self.sigmoid1 = nn.Sigmoid()\n",
    "        self.linear2 = nn.Linear(12, 8)\n",
    "        self.sigmoid2 = nn.Sigmoid()\n",
    "        self.linear3 = nn.Linear(8, 2)\n",
    "        self.softmax = nn.Softmax(dim=1)\n",
    "    \n",
    "    def forward(self, x):\n",
    "        lin1_out = self.linear1(x)\n",
    "        sigmoid_out1 = self.sigmoid1(lin1_out)\n",
    "        sigmoid_out2 = self.sigmoid2(self.linear2(sigmoid_out1))\n",
    "        return self.softmax(self.linear3(sigmoid_out2))"
   ]
  },
  {
   "cell_type": "code",
   "execution_count": 6,
   "id": "10a1ea1c-43b4-4528-a299-3a9f3cee8bad",
   "metadata": {},
   "outputs": [
    {
     "name": "stdout",
     "output_type": "stream",
     "text": [
      "Epoch 0/200 => Loss: 0.70\n",
      "Epoch 20/200 => Loss: 0.55\n",
      "Epoch 40/200 => Loss: 0.49\n",
      "Epoch 60/200 => Loss: 0.48\n",
      "Epoch 80/200 => Loss: 0.48\n",
      "Epoch 100/200 => Loss: 0.48\n",
      "Epoch 120/200 => Loss: 0.47\n",
      "Epoch 140/200 => Loss: 0.47\n",
      "Epoch 160/200 => Loss: 0.47\n",
      "Epoch 180/200 => Loss: 0.47\n"
     ]
    }
   ],
   "source": [
    "net = NN()\n",
    "USE_PRETRAINED_MODEL = False\n",
    "models_path = 'models_tutorial/titanic_model.pt'\n",
    "\n",
    "if USE_PRETRAINED_MODEL:\n",
    "    net.load_state_dict(torch.load(models_path))\n",
    "    print('Model loaded')\n",
    "else:\n",
    "    criterion = nn.CrossEntropyLoss()\n",
    "    num_epochs = 200\n",
    "    learning_rate = 0.1\n",
    "    \n",
    "    optimizer = torch.optim.Adam(net.parameters(), lr=learning_rate)\n",
    "    input_tensor = torch.from_numpy(train_features).type(torch.FloatTensor)\n",
    "    label_tensor = torch.from_numpy(train_labels)\n",
    "    for epoch in range(num_epochs):\n",
    "        output = net(input_tensor)\n",
    "        loss = criterion(output, label_tensor)\n",
    "        optimizer.zero_grad()\n",
    "        \n",
    "        # Calculate the gradient\n",
    "        loss.backward()\n",
    "        \n",
    "        # Update the weights\n",
    "        optimizer.step()\n",
    "        \n",
    "        if epoch % 20 == 0: # for large num_epochs\n",
    "            print ('Epoch {}/{} => Loss: {:.2f}'.format(epoch, num_epochs, loss.item()))\n",
    "    \n",
    "    torch.save(net.state_dict(), models_path)"
   ]
  },
  {
   "cell_type": "code",
   "execution_count": 7,
   "id": "299d59e3-35e1-4442-b80c-9cbb6e3a0361",
   "metadata": {},
   "outputs": [
    {
     "name": "stdout",
     "output_type": "stream",
     "text": [
      "Train accuracy:  0.8459069020866774\n"
     ]
    }
   ],
   "source": [
    "# Evaluate train and test scores\n",
    "\n",
    "out_probs = net(input_tensor).detach().numpy()\n",
    "out_classes = np.argmax(out_probs, axis=1)\n",
    "print('Train accuracy: ', sum(out_classes == train_labels) / len(train_labels))"
   ]
  },
  {
   "cell_type": "code",
   "execution_count": 8,
   "id": "475dfba4-998d-474e-808d-05ff81b147ca",
   "metadata": {},
   "outputs": [
    {
     "name": "stdout",
     "output_type": "stream",
     "text": [
      "Test accuracy:  0.832089552238806\n"
     ]
    }
   ],
   "source": [
    "test_input_tensor = torch.from_numpy(test_features).type(torch.FloatTensor)\n",
    "out_probs = net(test_input_tensor).detach().numpy()\n",
    "out_classes = np.argmax(out_probs, axis=1)\n",
    "print('Test accuracy: ', sum(out_classes == test_labels) / len(test_labels))"
   ]
  },
  {
   "cell_type": "code",
   "execution_count": 9,
   "id": "b8ee331c-d634-470a-a8fe-eb7e245c5239",
   "metadata": {},
   "outputs": [
    {
     "data": {
      "text/plain": [
       "(268, 12)"
      ]
     },
     "execution_count": 9,
     "metadata": {},
     "output_type": "execute_result"
    }
   ],
   "source": [
    "# 1. What is the contribution of each input feature?\n",
    "\n",
    "# Applying the IntegratedGradients\n",
    "ig = IntegratedGradients(net)\n",
    "\n",
    "# Making the gradient computation efficient\n",
    "test_input_tensor.requires_grad_()\n",
    "attr, delta = ig.attribute(test_input_tensor, target=1, return_convergence_delta=True)\n",
    "attr = attr.detach().numpy()\n",
    "attr.shape"
   ]
  },
  {
   "cell_type": "code",
   "execution_count": 10,
   "id": "d708c6d2-7601-4ffc-b049-02197c7a2215",
   "metadata": {},
   "outputs": [
    {
     "name": "stdout",
     "output_type": "stream",
     "text": [
      "Average Feature Importances\n",
      "Age :  -0.382\n",
      "SibSp :  -0.065\n",
      "Parch :  -0.042\n",
      "Fare :  0.575\n",
      "female :  0.107\n",
      "male :  -0.745\n",
      "Embark_C :  0.045\n",
      "Embark_Q :  0.021\n",
      "Embark_S :  -0.031\n",
      "Class_1 :  0.090\n",
      "Class_2 :  0.160\n",
      "Class_3 :  -0.221\n"
     ]
    },
    {
     "data": {
      "image/png": "[encoded data removed]",
      "text/plain": [
       "<Figure size 864x432 with 1 Axes>"
      ]
     },
     "metadata": {
      "needs_background": "light"
     },
     "output_type": "display_data"
    }
   ],
   "source": [
    "# Helper method to print importances and visualize distribution\n",
    "def visualize_importances(feature_names, importances, title='Average Feature Importances', plot=True, axis_title='Features'):\n",
    "    print(title)\n",
    "    for i in range(len(feature_names)):\n",
    "        print(feature_names[i], ': ', '%.3f'%(importances[i]))\n",
    "    x_pos = (np.arange(len(feature_names)))\n",
    "    if plot:\n",
    "        plt.figure(figsize=(12,6))\n",
    "        plt.bar(x_pos, importances, align='center')\n",
    "        plt.xticks(x_pos, feature_names, wrap=True)\n",
    "        plt.xlabel(axis_title)\n",
    "        plt.title(title)\n",
    "\n",
    "visualize_importances(feature_names, np.mean(attr, axis=0))"
   ]
  },
  {
   "cell_type": "markdown",
   "id": "406ee7d5-2335-4b3d-8d59-f9e1645a4c9a",
   "metadata": {},
   "source": [
    "### Insights\n",
    "\n",
    "<ul>\n",
    "<li>Age, fare and being male are important features which are negatively correlated with survival</li>\n",
    "<li>Embarking and number of parents appears to be less important features</li>\n",
    "</ul>\n",
    "\n",
    "Note: average attribution over all the test set does not necessarily capture all information regarding feature importances"
   ]
  },
  {
   "cell_type": "code",
   "execution_count": 11,
   "id": "63b7b133-6746-413d-905f-9ab6a89b965a",
   "metadata": {},
   "outputs": [
    {
     "data": {
      "text/plain": [
       "Text(0.5, 1.0, 'Distribution of SibSp attribution values')"
      ]
     },
     "execution_count": 11,
     "metadata": {},
     "output_type": "execute_result"
    },
    {
     "data": {
      "image/png": "[encoded data removed]",
      "text/plain": [
       "<Figure size 432x288 with 1 Axes>"
      ]
     },
     "metadata": {
      "needs_background": "light"
     },
     "output_type": "display_data"
    }
   ],
   "source": [
    "# Looking at the attribution of single example (number of siblings)\n",
    "\n",
    "plt.hist(attr[:,1], 100)\n",
    "plt.title('Distribution of SibSp attribution values')"
   ]
  },
  {
   "cell_type": "code",
   "execution_count": 12,
   "id": "c5abc80d-a37b-4435-baa1-a13516fb4124",
   "metadata": {},
   "outputs": [],
   "source": [
    "# 2. What is the contribution of each neuron in a given layer?\n",
    "\n",
    "# Layer attributions\n",
    "cond = LayerConductance(net, net.sigmoid1)\n",
    "cond_vals = cond.attribute(test_input_tensor, target=1)\n",
    "cond_vals = cond_vals.detach().numpy()"
   ]
  },
  {
   "cell_type": "code",
   "execution_count": 13,
   "id": "0ae5bd63-671d-46d5-b4ba-5e8f74e27260",
   "metadata": {},
   "outputs": [
    {
     "name": "stdout",
     "output_type": "stream",
     "text": [
      "Average Neuron Importances\n",
      "0 :  0.027\n",
      "1 :  -0.094\n",
      "2 :  0.131\n",
      "3 :  0.058\n",
      "4 :  -0.215\n",
      "5 :  -0.047\n",
      "6 :  -0.503\n",
      "7 :  -0.019\n",
      "8 :  0.104\n",
      "9 :  0.065\n",
      "10 :  -0.067\n",
      "11 :  0.071\n"
     ]
    },
    {
     "data": {
      "image/png": "[encoded data removed]",
      "text/plain": [
       "<Figure size 864x432 with 1 Axes>"
      ]
     },
     "metadata": {
      "needs_background": "light"
     },
     "output_type": "display_data"
    }
   ],
   "source": [
    "visualize_importances(range(12), np.mean(cond_vals, axis=0), title='Average Neuron Importances', axis_title='Neurons')"
   ]
  },
  {
   "cell_type": "code",
   "execution_count": 14,
   "id": "a7ad846b-624e-40c1-bf98-c451eeeef2b4",
   "metadata": {},
   "outputs": [
    {
     "name": "stdout",
     "output_type": "stream",
     "text": [
      "Average Feature Importances for Neuron 4\n",
      "Age :  -0.185\n",
      "SibSp :  0.017\n",
      "Parch :  -0.013\n",
      "Fare :  0.136\n",
      "female :  0.012\n",
      "male :  -0.139\n",
      "Embark_C :  0.015\n",
      "Embark_Q :  -0.000\n",
      "Embark_S :  -0.015\n",
      "Class_1 :  0.006\n",
      "Class_2 :  0.010\n",
      "Class_3 :  -0.041\n"
     ]
    },
    {
     "data": {
      "image/png": "[encoded data removed]",
      "text/plain": [
       "<Figure size 864x432 with 1 Axes>"
      ]
     },
     "metadata": {
      "needs_background": "light"
     },
     "output_type": "display_data"
    }
   ],
   "source": [
    "# 3. Which feature is activating particular neuron? Is it single feature or multiple feature?\n",
    "\n",
    "# Neuron total conductance divides the neuron's total conductance value into contributions from each individual input feature\n",
    "neuron_cond = NeuronConductance(net, net.sigmoid1)\n",
    "neuron_cond_vals_4 = neuron_cond.attribute(test_input_tensor, neuron_selector=4, target=1)\n",
    "neuron_cond_vals_6 = neuron_cond.attribute(test_input_tensor, neuron_selector=6, target=1)\n",
    "visualize_importances(feature_names, neuron_cond_vals_4.mean(dim=0).detach().numpy(), title='Average Feature Importances for Neuron 4')"
   ]
  },
  {
   "cell_type": "code",
   "execution_count": 16,
   "id": "2b508476-12a9-4c42-a521-6c4daaf5b3ce",
   "metadata": {},
   "outputs": [
    {
     "name": "stdout",
     "output_type": "stream",
     "text": [
      "Average Feature Importances for Neuron 6\n",
      "Age :  -0.348\n",
      "SibSp :  -0.051\n",
      "Parch :  -0.005\n",
      "Fare :  -0.020\n",
      "female :  0.062\n",
      "male :  -0.272\n",
      "Embark_C :  0.009\n",
      "Embark_Q :  0.002\n",
      "Embark_S :  0.061\n",
      "Class_1 :  0.083\n",
      "Class_2 :  0.093\n",
      "Class_3 :  -0.093\n"
     ]
    },
    {
     "data": {
      "image/png": "[encoded data removed]",
      "text/plain": [
       "<Figure size 864x432 with 1 Axes>"
      ]
     },
     "metadata": {
      "needs_background": "light"
     },
     "output_type": "display_data"
    }
   ],
   "source": [
    "visualize_importances(feature_names, neuron_cond_vals_6.mean(dim=0).detach().numpy(), title='Average Feature Importances for Neuron 6')"
   ]
  },
  {
   "cell_type": "code",
   "execution_count": null,
   "id": "6aaa1bd7-f881-4de7-b879-69e2cb71ed4f",
   "metadata": {},
   "outputs": [],
   "source": []
  }
 ],
 "metadata": {
  "kernelspec": {
   "display_name": "Python 3",
   "language": "python",
   "name": "python3"
  },
  "language_info": {
   "codemirror_mode": {
    "name": "ipython",
    "version": 3
   },
   "file_extension": ".py",
   "mimetype": "text/x-python",
   "name": "python",
   "nbconvert_exporter": "python",
   "pygments_lexer": "ipython3",
   "version": "3.6.9"
  }
 },
 "nbformat": 4,
 "nbformat_minor": 5
}
